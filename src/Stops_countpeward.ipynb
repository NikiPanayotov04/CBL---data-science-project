{
 "cells": [
  {
   "cell_type": "code",
   "execution_count": 1,
   "id": "1a502424",
   "metadata": {
    "ExecuteTime": {
     "end_time": "2025-05-22T18:25:27.662830300Z",
     "start_time": "2025-05-22T18:25:24.902561900Z"
    }
   },
   "outputs": [
    {
     "name": "stdout",
     "output_type": "stream",
     "text": [
      "Stop counts saved to: data/processed/stop_counts_per_ward.csv\n"
     ]
    }
   ],
   "source": [
    "import pandas as pd\n",
    "import geopandas as gpd\n",
    "from shapely.geometry import Point\n",
    "\n",
    "# Load stops\n",
    "df_stops = pd.read_parquet(\"../data/processed/stops_lsoa.parquet\")\n",
    "df_stops = df_stops.dropna(subset=[\"Longitude\", \"Latitude\"])\n",
    "df_stops[\"geometry\"] = df_stops.apply(lambda row: Point(row[\"Longitude\"], row[\"Latitude\"]), axis=1)\n",
    "gdf_stops = gpd.GeoDataFrame(df_stops, geometry=\"geometry\", crs=\"EPSG:4326\")\n",
    "\n",
    "gdf_wards = gpd.read_file(\"../data/boundaries/ward boundaries 2024/london_wards_merged.shp\").to_crs(\"EPSG:4326\")\n",
    "\n",
    "# match stops to wards\n",
    "gdf_joined = gpd.sjoin(gdf_stops, gdf_wards[[\"WD24CD\", \"WD24NM\", \"geometry\"]], how=\"inner\", predicate=\"intersects\")\n",
    "\n",
    "# Count stops per ward\n",
    "df_counts = gdf_joined.groupby([\"WD24CD\", \"WD24NM\"]).size().reset_index(name=\"stop_count\")\n",
    "\n",
    "df_counts.rename(columns={\"WD24CD\": \"Ward code\", \"WD24NM\": \"Ward name\"}, inplace=True)\n",
    "\n",
    "df_counts.to_csv(\"../data/processed/stop_counts_per_ward.csv\", index=False)\n",
    "print(\"Stop counts saved to: data/processed/stop_counts_per_ward.csv\")\n"
   ]
  }
 ],
 "metadata": {
  "kernelspec": {
   "display_name": "JB1010",
   "language": "python",
   "name": "python3"
  },
  "language_info": {
   "codemirror_mode": {
    "name": "ipython",
    "version": 3
   },
   "file_extension": ".py",
   "mimetype": "text/x-python",
   "name": "python",
   "nbconvert_exporter": "python",
   "pygments_lexer": "ipython3",
   "version": "3.10.12"
  }
 },
 "nbformat": 4,
 "nbformat_minor": 5
}
