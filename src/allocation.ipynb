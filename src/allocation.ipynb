{
 "cells": [
  {
   "cell_type": "markdown",
   "id": "6b76e9e9",
   "metadata": {},
   "source": [
    "**Note:** The following section demonstrates a very basic, proportional-risk approach to allocating officer hours across wards.  \n",
    "This method is **not** used in the final model.\n",
    "\n",
    "For the detailed allocation methodology, see the “Resource Allocation” section later in this notebook."
   ]
  },
  {
   "cell_type": "code",
   "execution_count": 5,
   "id": "52059955",
   "metadata": {
    "ExecuteTime": {
     "end_time": "2025-06-13T10:37:59.031184100Z",
     "start_time": "2025-06-13T10:37:58.392116500Z"
    }
   },
   "outputs": [
    {
     "name": "stdout",
     "output_type": "stream",
     "text": [
      "     Ward code                 Ward name  Dwellings     Risk_Rate  \\\n",
      "0    E05013662   Holborn & Covent Garden       5985  4.385889e-03   \n",
      "1    E05013748     Shepherd's Bush Green       3080  4.309465e-03   \n",
      "2    E09000001            City of London       7330  3.821007e-03   \n",
      "3    E05009377  Hoxton East & Shoreditch       6410  3.821176e-03   \n",
      "4    E05013808                  West End      10270  3.786360e-03   \n",
      "..         ...                       ...        ...           ...   \n",
      "675  E05009368                  Cazenove       5300  0.000000e+00   \n",
      "676  E05013883                   Cathall       4310  0.000000e+00   \n",
      "677  E05013945                  Tolworth       4755  4.669708e-19   \n",
      "678  E05013578             Ruislip Manor       3920  0.000000e+00   \n",
      "679  E05013617            Heston Central       4485  0.000000e+00   \n",
      "\n",
      "     Allocated_Hours  \n",
      "0              200.0  \n",
      "1              197.0  \n",
      "2              174.0  \n",
      "3              174.0  \n",
      "4              173.0  \n",
      "..               ...  \n",
      "675              2.0  \n",
      "676              2.0  \n",
      "677              2.0  \n",
      "678              2.0  \n",
      "679              2.0  \n",
      "\n",
      "[680 rows x 5 columns]\n"
     ]
    }
   ],
   "source": [
    "import pandas as pd\n",
    "import numpy as np\n",
    "\n",
    "\n",
    "df_lsoa = pd.read_parquet(\"../data/processed/census_lsoa.parquet\")\n",
    "lookup = pd.read_csv(\n",
    "    \"../data/lookups/look up LSOA 2021 to ward 2024 merged.csv\",\n",
    "    usecols=[\"LSOA21CD\", \"WD24CD\", \"WD24NM\"]\n",
    ")\n",
    "\n",
    "# Mege on LSOA code\n",
    "df_lsoa = df_lsoa.merge(\n",
    "    lookup,\n",
    "    left_on=\"LSOA code\",\n",
    "    right_on=\"LSOA21CD\",\n",
    "    how=\"inner\"\n",
    ")\n",
    "df_ward_census = (\n",
    "    df_lsoa\n",
    "    .groupby([\"WD24CD\", \"WD24NM\"], as_index=False)\n",
    "    .agg({\"Total: All dwellings\": \"sum\"})\n",
    ")\n",
    "df_ward_census.rename(\n",
    "    columns={\n",
    "        \"WD24CD\": \"Ward code\",\n",
    "        \"WD24NM\": \"Ward name\",\n",
    "        \"Total: All dwellings\": \"Dwellings\"\n",
    "    },\n",
    "    inplace=True\n",
    ")\n",
    "\n",
    "# Load prediction Data\n",
    "sarima_fc = pd.read_csv(\n",
    "    \"../data/processed/sarima_final_forecast_per_ward.csv\",\n",
    "    parse_dates=[\"Month\"]\n",
    ")\n",
    "first_fc_month = sarima_fc[\"Month\"].min()\n",
    "fc1 = sarima_fc[sarima_fc[\"Month\"] == first_fc_month].copy()\n",
    "\n",
    "df = (\n",
    "    fc1[[\"Ward code\", \"Ward name\", \"mean\"]]\n",
    "    .merge(\n",
    "        df_ward_census[[\"Ward code\", \"Dwellings\"]],\n",
    "        on=\"Ward code\",\n",
    "        how=\"left\"\n",
    "    )\n",
    "    .rename(columns={\"mean\": \"Forecasted_Burglaries\"})\n",
    ")\n",
    "\n",
    "df[\"Risk_Rate\"] = df[\"Forecasted_Burglaries\"] / df[\"Dwellings\"].replace(0, np.nan)\n",
    "df[\"Risk_Rate\"] = df[\"Risk_Rate\"].clip(lower=0)\n",
    "\n",
    "r_max = df[\"Risk_Rate\"].max()\n",
    "\n",
    "df[\"Allocated_Hours\"] = 200 * (df[\"Risk_Rate\"] / r_max)\n",
    "df[\"Allocated_Hours\"] = df[\"Allocated_Hours\"].clip(lower=2)\n",
    "\n",
    "df[\"Allocated_Hours\"] = df[\"Allocated_Hours\"].round(0) # Integer hours\n",
    "df = df.sort_values(\"Allocated_Hours\", ascending=False).reset_index(drop=True)\n",
    "\n",
    "print(df[[\n",
    "    \"Ward code\",\n",
    "    \"Ward name\",\n",
    "    \"Dwellings\",\n",
    "    \"Risk_Rate\",\n",
    "    \"Allocated_Hours\"\n",
    "]])\n",
    "\n",
    "df.to_csv(\"../data/processed/ward_hour_allocation.csv\", index=False)\n"
   ]
  },
  {
   "cell_type": "markdown",
   "id": "bfccfe7a",
   "metadata": {},
   "source": [
    "**Resource Allocation method**"
   ]
  },
  {
   "cell_type": "code",
   "execution_count": 1,
   "id": "b7d8dea5",
   "metadata": {
    "ExecuteTime": {
     "end_time": "2025-06-13T10:38:01.184981400Z",
     "start_time": "2025-06-13T10:38:00.456444400Z"
    }
   },
   "outputs": [
    {
     "name": "stdout",
     "output_type": "stream",
     "text": [
      "Restricted license - for non-production use only - expires 2026-11-23\n",
      "Set parameter OutputFlag to value 1\n",
      "Warning for adding constraints: zero or small (< 1e-13) coefficients, ignored\n",
      "Gurobi Optimizer version 12.0.1 build v12.0.1rc0 (win64 - Windows 11.0 (26100.2))\n",
      "\n",
      "CPU model: 12th Gen Intel(R) Core(TM) i7-12700H, instruction set [SSE2|AVX|AVX2]\n",
      "Thread count: 14 physical cores, 20 logical processors, using up to 20 threads\n",
      "\n",
      "Optimize a model with 669 rows, 681 columns and 2015 nonzeros\n",
      "Model fingerprint: 0xf82adf89\n",
      "Coefficient statistics:\n",
      "  Matrix range     [2e-01, 4e+01]\n",
      "  Objective range  [1e+00, 1e+00]\n",
      "  Bounds range     [2e+00, 2e+02]\n",
      "  RHS range        [3e+04, 3e+04]\n",
      "Presolve removed 6 rows and 18 columns\n",
      "Presolve time: 0.02s\n",
      "Presolved: 663 rows, 663 columns, 1986 nonzeros\n",
      "\n",
      "Iteration    Objective       Primal Inf.    Dual Inf.      Time\n",
      "       0    1.3112339e+02   6.082180e+04   0.000000e+00      0s\n",
      "     662    5.1432496e+00   0.000000e+00   0.000000e+00      0s\n",
      "\n",
      "Solved in 662 iterations and 0.03 seconds (0.02 work units)\n",
      "Optimal objective  5.143249626e+00\n",
      "Saved LP allocations to ward_hour_allocation_LP_method.csv\n"
     ]
    }
   ],
   "source": [
    "import pandas as pd\n",
    "from gurobipy import Model, GRB\n",
    "\n",
    "# Load the simple-method total\n",
    "allocation_simple = pd.read_csv(\"../data/processed/ward_hour_allocation.csv\")\n",
    "total_officers_hours = allocation_simple[\"Allocated_Hours\"].sum()\n",
    "\n",
    "# Load SARIMA forecasts - first month\n",
    "fc = pd.read_csv(\"../data/processed/sarima_final_forecast_per_ward.csv\", parse_dates=[\"Month\"])\n",
    "first_month = fc[\"Month\"].min()\n",
    "forecast_df = (\n",
    "    fc[fc[\"Month\"] == first_month]\n",
    "    [[\"Ward code\",\"Ward name\",\"mean\"]]\n",
    "    .rename(columns={\"mean\":\"Predicted_Crime_Count\"})\n",
    "    .reset_index(drop=True)\n",
    ")\n",
    "\n",
    "demand = forecast_df[\"Predicted_Crime_Count\"].tolist()\n",
    "n = len(demand)\n",
    "\n",
    "m = Model(\"ward_allocation_with_fixed_min\")\n",
    "m.Params.OutputFlag = 1\n",
    "\n",
    "# Create variables: wards with d ≤ 0 are fixed at 2 -  others between 2 and 200\n",
    "x = []\n",
    "for i, d in enumerate(demand):\n",
    "    if d <= 0:\n",
    "        xi = m.addVar(lb=2.0, ub=2.0, name=f\"x_{i}\")\n",
    "    else:\n",
    "        xi = m.addVar(lb=2.0, ub=200.0, name=f\"x_{i}\")\n",
    "    x.append(xi)\n",
    "\n",
    "# a ≥ 0\n",
    "alpha = m.addVar(lb=0.0, name=\"alpha\")\n",
    "\n",
    "# Add coverage constraints only for positive demand\n",
    "for i, d in enumerate(demand):\n",
    "    if d > 0:\n",
    "        m.addConstr(x[i] >= d * alpha, name=f\"cover_{i}\")\n",
    "\n",
    "# Add constraints\n",
    "m.addConstr(sum(x) <= total_officers_hours, name=\"total_budget\")\n",
    "\n",
    "# Objective maximize a\n",
    "m.setObjective(alpha, GRB.MAXIMIZE)\n",
    "m.optimize()\n",
    "\n",
    "# Extract\n",
    "if m.status == GRB.Status.OPTIMAL:\n",
    "    alpha_val = alpha.X\n",
    "    allocated_continuous = [xi.X for xi in x]\n",
    "    allocated_rounded  = [int(round(val)) for val in allocated_continuous]\n",
    "\n",
    "    forecast_df[\"Alpha (Coverage Factor)\"] = alpha_val\n",
    "    forecast_df[\"Allocated_Officers_Continuous\"] = allocated_continuous\n",
    "    forecast_df[\"Allocated_Officers_Rounded\"] = allocated_rounded\n",
    "\n",
    "    # Sort and save\n",
    "    forecast_df = forecast_df.sort_values(\"Allocated_Officers_Rounded\", ascending=False)\n",
    "    forecast_df.to_csv(\"../data/processed/ward_hour_allocation_LP_method.csv\", index=False)\n",
    "    print(\"Saved LP allocations to ward_hour_allocation_LP_method.csv\")\n",
    "else:\n",
    "    print(f\"Optimization ended with status {m.status}\")"
   ]
  },
  {
   "cell_type": "markdown",
   "id": "f0e904a3",
   "metadata": {},
   "source": [
    "**Comparison of Simple vs Linear Programming Allocation Methods**"
   ]
  },
  {
   "cell_type": "code",
   "execution_count": null,
   "id": "e5be48a7",
   "metadata": {
    "ExecuteTime": {
     "end_time": "2025-06-13T10:38:03.410084600Z",
     "start_time": "2025-06-13T10:38:02.352004800Z"
    }
   },
   "outputs": [
    {
     "name": "stderr",
     "output_type": "stream",
     "text": [
      "C:\\Users\\20234582\\AppData\\Local\\Temp\\ipykernel_10716\\1894517729.py:46: MatplotlibDeprecationWarning: The 'labels' parameter of boxplot() has been renamed 'tick_labels' since Matplotlib 3.9; support for the old name will be dropped in 3.11.\n",
      "  plt.boxplot(\n"
     ]
    },
    {
     "data": {
      "image/png": "[encoded data removed]",
      "text/plain": [
       "<Figure size 700x400 with 1 Axes>"
      ]
     },
     "metadata": {},
     "output_type": "display_data"
    },
    {
     "data": {
      "image/png": "[encoded data removed]",
      "text/plain": [
       "<Figure size 500x300 with 1 Axes>"
      ]
     },
     "metadata": {},
     "output_type": "display_data"
    },
    {
     "data": {
      "image/png": "[encoded data removed]",
      "text/plain": [
       "<Figure size 500x300 with 1 Axes>"
      ]
     },
     "metadata": {},
     "output_type": "display_data"
    },
    {
     "name": "stdout",
     "output_type": "stream",
     "text": [
      "Coverage statistics:\n",
      "  Minimum coverage -> Simple: 3.78, LP: 4.42\n",
      "  Median coverage -> Simple: 8.41, LP: 5.15\n",
      "  25th–75th percentile -> Simple: [7.04, 10.39], LP: [5.10, 5.20\n",
      "  95th percentile (tail) -> Simple: 15.38, LP: 5.31\n"
     ]
    }
   ],
   "source": [
    "import pandas as pd\n",
    "import numpy as np\n",
    "import matplotlib.pyplot as plt\n",
    "\n",
    "# Load data\n",
    "simple = pd.read_csv(\"../data/processed/ward_hour_allocation.csv\")\n",
    "lp = pd.read_csv(\"../data/processed/ward_hour_allocation_LP_method.csv\")\n",
    "\n",
    "fc = pd.read_csv(\"../data/processed/sarima_final_forecast_per_ward.csv\", parse_dates=[\"Month\"])\n",
    "first_month = fc[\"Month\"].min()\n",
    "fc1 = (\n",
    "    fc[fc[\"Month\"] == first_month][[\"Ward code\", \"mean\"]]\n",
    "      .rename(columns={\"mean\": \"Forecasted_Burglaries\"})\n",
    ")\n",
    "\n",
    "# Merge all\n",
    "df = (\n",
    "    simple[[\"Ward code\", \"Allocated_Hours\"]]\n",
    "      .rename(columns={\"Allocated_Hours\": \"Simple_Hours\"})\n",
    "      .merge(\n",
    "          lp[[\"Ward code\", \"Allocated_Officers_Rounded\"]]\n",
    "            .rename(columns={\"Allocated_Officers_Rounded\": \"LP_Hours\"}),\n",
    "          on=\"Ward code\", how=\"inner\"\n",
    "      )\n",
    "      .merge(fc1, on=\"Ward code\", how=\"left\")\n",
    ")\n",
    "\n",
    "# Coverage fractions\n",
    "df[\"cov_simple\"] = df[\"Simple_Hours\"] / df[\"Forecasted_Burglaries\"]\n",
    "df[\"cov_lp\"] = df[\"LP_Hours\"] / df[\"Forecasted_Burglaries\"]\n",
    "\n",
    "# Clean\n",
    "df = df[df[\"Forecasted_Burglaries\"] > 0]\n",
    "df = df.replace([np.inf, -np.inf], np.nan).dropna(subset=[\"cov_simple\",\"cov_lp\"])\n",
    "\n",
    "# Trim extremes\n",
    "quantiles = df[[\"cov_simple\", \"cov_lp\"]].quantile([0.05, 0.95])\n",
    "mask = (\n",
    "    df[\"cov_simple\"].between(quantiles.loc[0.05, \"cov_simple\"], quantiles.loc[0.95, \"cov_simple\"]) &\n",
    "    df[\"cov_lp\"].between(quantiles.loc[0.05, \"cov_lp\"], quantiles.loc[0.95, \"cov_lp\"])\n",
    ")\n",
    "df_trim = df[mask]\n",
    "\n",
    "# Boxplot\n",
    "plt.figure(figsize=(7,4))\n",
    "plt.boxplot(\n",
    "    [df_trim[\"cov_simple\"], df_trim[\"cov_lp\"]],\n",
    "    labels=[\"Simple\", \"LP\"]\n",
    ")\n",
    "plt.ylabel(\"Coverage fraction (hours ÷ forecast)\")\n",
    "plt.title(\"Coverage distribution by method\")\n",
    "plt.tight_layout()\n",
    "plt.show()\n",
    "\n",
    "# Histograms\n",
    "methods = {\n",
    "    \"Simple\": df_trim[\"cov_simple\"],\n",
    "    \"LP\": df_trim[\"cov_lp\"],\n",
    "}\n",
    "for method, data in methods.items():\n",
    "    plt.figure(figsize=(5,3))\n",
    "    plt.hist(data, bins=40)\n",
    "    plt.xlabel(f\"Coverage fraction ({method})\")\n",
    "    plt.ylabel(\"Number of wards\")\n",
    "    plt.title(f\"{method} method coverage\")\n",
    "    plt.tight_layout()\n",
    "    plt.show()\n",
    "\n",
    "# Statistics\n",
    "min_simple = df[\"cov_simple\"].min()\n",
    "min_lp = df[\"cov_lp\"].min()\n",
    "\n",
    "median_simple = df[\"cov_simple\"].median()\n",
    "median_lp = df[\"cov_lp\"].median()\n",
    "\n",
    "q25_simple, q75_simple = df[\"cov_simple\"].quantile([0.25, 0.75])\n",
    "q25_lp, q75_lp = df[\"cov_lp\"].quantile([0.25, 0.75])\n",
    "\n",
    "p95_simple = df[\"cov_simple\"].quantile(0.95)\n",
    "p95_lp = df[\"cov_lp\"].quantile(0.95)\n",
    "\n",
    "print(\"Coverage statistics:\")\n",
    "print(f\"  Minimum coverage -> Simple: {min_simple:.2f}, LP: {min_lp:.2f}\")\n",
    "print(f\"  Median coverage -> Simple: {median_simple:.2f}, LP: {median_lp:.2f}\")\n",
    "print(f\"  25th–75th percentile -> Simple: [{q25_simple:.2f}, {q75_simple:.2f}], LP: [{q25_lp:.2f}, {q75_lp:.2f}\")\n",
    "print(f\"  95th percentile (tail) -> Simple: {p95_simple:.2f}, LP: {p95_lp:.2f}\")\n"
   ]
  }
 ],
 "metadata": {
  "kernelspec": {
   "display_name": "gurobi-env",
   "language": "python",
   "name": "python3"
  },
  "language_info": {
   "codemirror_mode": {
    "name": "ipython",
    "version": 3
   },
   "file_extension": ".py",
   "mimetype": "text/x-python",
   "name": "python",
   "nbconvert_exporter": "python",
   "pygments_lexer": "ipython3",
   "version": "3.10.16"
  }
 },
 "nbformat": 4,
 "nbformat_minor": 5
}
